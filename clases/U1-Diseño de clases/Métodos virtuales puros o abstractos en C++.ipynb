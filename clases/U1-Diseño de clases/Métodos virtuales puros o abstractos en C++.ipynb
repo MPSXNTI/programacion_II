{
 "cells": [
  {
   "cell_type": "markdown",
   "metadata": {},
   "source": [
    "# **Métodos virtuales puros o abstractos en C++**"
   ]
  },
  {
   "cell_type": "markdown",
   "metadata": {},
   "source": [
    "*Un método declarado como virtual puro permite, además implementar polimorfismo en tiempo de ejecución, permite que ese método no tenga implementación en la clase base y obliga a las clases hijas a implementarlo. Los métodos virtuales puros en C++ se declaran agregando `= 0` a la definición del método. En otros lenguajes orientados o objetos, estos métodos también son llamados `métodos abstractos`.*"
   ]
  },
  {
   "cell_type": "code",
   "execution_count": 1,
   "metadata": {},
   "outputs": [
    {
     "data": {
      "text/plain": []
     },
     "execution_count": 1,
     "metadata": {},
     "output_type": "execute_result"
    }
   ],
   "source": [
    "#include <cstdio>\n",
    "#include <iostream>\n",
    "#include <string>"
   ]
  },
  {
   "cell_type": "markdown",
   "metadata": {},
   "source": [
    "*Se define y se implementa la clase Animal. Esta clase tiene un constructor vacío y un método que retorna el sonido del animal, llamado `hacerSonido()`. Por diseño, **este método esta vacío** y se requiere que este método sea sobreescrito por las clases hijas. Debido a esto, se utiliza la palabra reservada `virtual` antes de la definición del método y se utiliza la expresión `= 0` para establecer que se trata de un método virtual puro.*"
   ]
  },
  {
   "cell_type": "code",
   "execution_count": 2,
   "metadata": {},
   "outputs": [
    {
     "data": {
      "text/plain": []
     },
     "execution_count": 2,
     "metadata": {},
     "output_type": "execute_result"
    }
   ],
   "source": [
    "class Animal {\n",
    "public:\n",
    "    Animal(){}\n",
    "    virtual std::string hacerSonido() = 0;\n",
    "};"
   ]
  },
  {
   "cell_type": "markdown",
   "metadata": {},
   "source": [
    "*Una vez definida la clase base, se definen e implementan las clases derivadas `Perro` y `Gato`. Cada una implementa el método `hacerSonido()` según el comportamiento de la clase respectiva, tal como en el caso de métodos virtuales simples. Se utiliza la palabra reservada `override` para indicar que el método esta sobreescrito. `override` es sólo un **adorno**. Si ben no colocarlo no afecta el funcionamiento del código, es recomendable utilizarlo ya que indica explícitamente que un método se está sobreescribiendo (mejora la legibilidad y mantención del código).*"
   ]
  },
  {
   "cell_type": "code",
   "execution_count": 3,
   "metadata": {},
   "outputs": [
    {
     "data": {
      "text/plain": []
     },
     "execution_count": 3,
     "metadata": {},
     "output_type": "execute_result"
    }
   ],
   "source": [
    "class Perro : public Animal {\n",
    "public:\n",
    "    Perro(){}\n",
    "    std::string hacerSonido() override {\n",
    "        return(\"Guau\");\n",
    "    }\n",
    "};\n",
    "\n",
    "class Gato : public Animal {\n",
    "public:\n",
    "    Gato() {}\n",
    "    std::string hacerSonido() override {\n",
    "        return(\"Miau\");\n",
    "    }\n",
    "};"
   ]
  },
  {
   "cell_type": "markdown",
   "metadata": {},
   "source": [
    "## **Creación de objetos**"
   ]
  },
  {
   "cell_type": "markdown",
   "metadata": {},
   "source": [
    "*Luego se crean los objetos con el operador `new`. Se debe recordar que se debe utilizar esta técnica de creación en C++ para aprovechar todos los beneficios del polimorfismo en tiempo de ejecución.*"
   ]
  },
  {
   "cell_type": "code",
   "execution_count": 4,
   "metadata": {},
   "outputs": [
    {
     "data": {
      "text/plain": []
     },
     "execution_count": 4,
     "metadata": {},
     "output_type": "execute_result"
    }
   ],
   "source": [
    "Animal* q0 = new Perro();\n",
    "Animal* q1 = new Gato();\n",
    "Perro*  q2 = new Perro();\n",
    "Gato*   q3 = new Gato();"
   ]
  },
  {
   "cell_type": "markdown",
   "metadata": {},
   "source": [
    "*Para probar que efectivamente se logra implementar correctamente el polimorfismo en tiempo de ejecución, se construye la función `sonido()` con un parámetro que es un puntero a la clase `Animal`.*"
   ]
  },
  {
   "cell_type": "code",
   "execution_count": 5,
   "metadata": {},
   "outputs": [
    {
     "name": "stdout",
     "output_type": "stream",
     "text": [
      "Guau\n",
      "Miau\n",
      "Guau\n",
      "Miau\n"
     ]
    },
    {
     "data": {
      "text/plain": [
       "(void) @0x7f31a57f8c30\n"
      ]
     },
     "execution_count": 5,
     "metadata": {},
     "output_type": "execute_result"
    }
   ],
   "source": [
    "void sonido(Animal* a){\n",
    "    std::cout << a->hacerSonido() << \"\\n\";\n",
    "}\n",
    "\n",
    "sonido(q0);\n",
    "sonido(q1);\n",
    "sonido(q2);\n",
    "sonido(q3);"
   ]
  },
  {
   "cell_type": "markdown",
   "metadata": {},
   "source": [
    "*Si por error se instancia un objeto de la clase `Animal`, el compilador entregará un error, ya que no se puede crear un objeto si la clase tiene por lo menos un método virtual puro.*"
   ]
  },
  {
   "cell_type": "code",
   "execution_count": 6,
   "metadata": {},
   "outputs": [
    {
     "name": "stderr",
     "output_type": "stream",
     "text": [
      "input_line_9:2:19: error: allocating an object of abstract class type 'Animal'\n",
      " Animal* a0 = new Animal()\n",
      "                  ^\n",
      "input_line_4:4:25: note: unimplemented pure virtual method 'hacerSonido' in 'Animal'\n",
      "    virtual std::string hacerSonido() = 0;\n",
      "                        ^\n"
     ]
    },
    {
     "ename": "ename",
     "evalue": "evalue",
     "output_type": "error",
     "traceback": []
    }
   ],
   "source": [
    "Animal* a0 = new Animal()"
   ]
  },
  {
   "cell_type": "markdown",
   "metadata": {},
   "source": [
    "*Este error, desde el punto de vista de Programación Orientada a Objetos, es totalmente válido debido a que una clase que tenga por lo menos un método abstracto no puede instanciar un objeto, ya que dicho método no tiene código asociado.*"
   ]
  }
 ],
 "metadata": {
  "kernelspec": {
   "display_name": "C++17",
   "language": "C++",
   "name": "cling-cpp17"
  },
  "language_info": {
   "codemirror_mode": "c++",
   "file_extension": ".c++",
   "mimetype": "text/x-c++src",
   "name": "c++"
  }
 },
 "nbformat": 4,
 "nbformat_minor": 2
}
