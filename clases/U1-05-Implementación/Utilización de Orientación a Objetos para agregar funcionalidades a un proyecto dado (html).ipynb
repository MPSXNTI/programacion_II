{
 "cells": [
  {
   "cell_type": "markdown",
   "metadata": {},
   "source": [
    "# **Utilización de Orientación a Objetos para agregar funcionalidades a un proyecto dado**"
   ]
  },
  {
   "cell_type": "markdown",
   "metadata": {},
   "source": [
    "*En la Figura 1 se muestra el diagrama se muestra la jerarquía que original del ejemplo anterior.*\n",
    "\n",
    "*Los objetos de pruebas se crearon con el siguiente código:*\n",
    "```\n",
    "Cuadrado* q1 = new Cuadrado(10);\n",
    "Cuadrado* q2 = new Cuadrado(5.54675);\n",
    "Rectangulo* r1 = new Rectangulo(56,89);\n",
    "Circulo*  c1 = new Circulo(5);\n",
    "```\n",
    "*Aunque se debe evitar, algunas veces es necesario agregar nuevas funcionalidades al código. Por ejemplo, se necesita agregar una nueva forma de construir los objetos utilizando un identificador a cada nuevo objeto creado.*\n",
    "```\n",
    "Cuadrado*    nq1 = new Cuadrado(\"Cuadrado 01\", 10)\n",
    "Rectangulo*  nr2 = new Cuadrado(\"Sector Alpha\", 5.54675);\n",
    "Elipse*      ne1 = new Elipse(\"Ovalo A\", 56,89);\n",
    "Circulo*     nc1 = new Circulo(\"Area circular 51\", 5);\n",
    "```\n",
    "*Para los objetos creados, el identificar se debe acceder a través del método `retornarID()`.*\n",
    "\n",
    "*Obviamente, la antigua forma de instanciar objetos se debe mantener. Como en este caso no se especifica el identificador, se le asignará el identificador \"Sin ID\". Por ejemplo:*\n",
    "```\n",
    "Cuadrado*    q1 = new Cuadrado(10)\n",
    "Rectangulo*  r2 = new Cuadrado(5.54675);\n",
    "Elipse*      e1 = new Elipse(56,89);\n",
    "Circulo*     c1 = new Circulo(5);\n",
    "```\n",
    "*En este caso, el método `retornarID()` deberá retornar `Sin ID` para los objetos instanciados. Además, el método `area()` de la clase `Figura` se debe rediseñar para obligar a las clases hijas a implementarlo.*"
   ]
  },
  {
   "cell_type": "markdown",
   "metadata": {},
   "source": [
    "## **Solución**"
   ]
  },
  {
   "cell_type": "markdown",
   "metadata": {},
   "source": [
    "*En la Figura 2 se muestra el diagrama del nuevo diseño de la jerarquía original.*\n",
    "\n",
    "*Antes de crear el código, se deben incluir las bibliotecas que permiten utilizar los ejemplos que se muestran en este documento.*"
   ]
  },
  {
   "cell_type": "code",
   "execution_count": 1,
   "metadata": {},
   "outputs": [
    {
     "data": {
      "text/plain": []
     },
     "execution_count": 1,
     "metadata": {},
     "output_type": "execute_result"
    }
   ],
   "source": [
    "#include <cstdio>\n",
    "#include <iostream>\n",
    "#include <string>"
   ]
  },
  {
   "cell_type": "markdown",
   "metadata": {},
   "source": [
    "### **Paso 1**"
   ]
  },
  {
   "cell_type": "markdown",
   "metadata": {},
   "source": [
    "*Para este ejemplo, se requiere que el método `area()` sea sobreescrito por las clases hijas en forma **obligatoria**. Debido a esto, este método debe ser `pure virtual`. Este se logra en C++ agregando `= 0` a la declaración del método*\n",
    "```\n",
    "virtual double area() = 0\n",
    "```\n",
    "*Además, para almacenar el identificador de las figura, se agrega el atributo privado `id`.*\n",
    "```\n",
    "private: std::string id;\n",
    "```\n",
    "*Debido a esto, se implementa el getter `retornarID()`, el que es solicitado como requerimiento.*\n",
    "```\n",
    "std::string retornarID(){ ... }\n",
    "```\n",
    "*Para que las clases derivadas puedan solicitar crear un objeto `Figura` con o sin identificadores, se modificar el contructor original y se agrega un nuevo constructor que permite asignar el identificador de la figura.*\n",
    "```\n",
    "Figura(std::string _id){ ... }\n",
    "```\n",
    "*Con lo explicado, la imlementación de la clase `Figura` es:*"
   ]
  },
  {
   "cell_type": "code",
   "execution_count": 2,
   "metadata": {},
   "outputs": [
    {
     "data": {
      "text/plain": []
     },
     "execution_count": 2,
     "metadata": {},
     "output_type": "execute_result"
    }
   ],
   "source": [
    "class Figura{\n",
    "    private: std::string id;\n",
    "\n",
    "    public:\n",
    "    Figura(){\n",
    "        id = \"Sin ID\";\n",
    "    }\n",
    "    Figura(std::string _id){\n",
    "        id = _id;\n",
    "    }\n",
    "    \n",
    "    std::string retornarID(){\n",
    "        return(id);\n",
    "    }\n",
    "\n",
    "    virtual double area() = 0;\n",
    "};"
   ]
  },
  {
   "cell_type": "markdown",
   "metadata": {},
   "source": [
    "### **Paso 2 Crear clases hijas**"
   ]
  },
  {
   "cell_type": "markdown",
   "metadata": {},
   "source": [
    "*Para el caso de las clases `Rectangulo` y `Elipse`, el constructor original queda sin modificar. Esto se debe a que antes de instanciar una clase `Rectangulo`, se instancia una clase `Figura`. Cuando no se especifica el constructor de la clase superior, se asume que se invoca al constructor sin parámetros. Por ejemplo, el constructor:*\n",
    "```\n",
    "Rectangulo(double _largo, double _alto){ ... }\n",
    "```\n",
    "*implícitamente llama al constructor `Figura()` antes de ejecutar el código que está definido en el cuerpo del método. Se debe recordar que el constructor `Figura()` asigna el valor `Sin ID` al identificador.*\n",
    "\n",
    "*Para instanciar un objeto con un identificador, y mantener la antigüa forma, se debe utilizar polimorfismo en el constructor. Además, se debe llamar explícitamente al constructor de la clase base con el identificador correspondiente. Por ejemplo, en caso de la clase `Rectangulo`:*\n",
    "```\n",
    "Rectangulo(std::string _id, double _largo, double _alto): Figura(_id){ ... }\n",
    "```"
   ]
  },
  {
   "cell_type": "code",
   "execution_count": 3,
   "metadata": {},
   "outputs": [
    {
     "data": {
      "text/plain": []
     },
     "execution_count": 3,
     "metadata": {},
     "output_type": "execute_result"
    }
   ],
   "source": [
    "class Rectangulo: public Figura {\n",
    "    private:\n",
    "    double largo;\n",
    "    double alto;\n",
    "\n",
    "    public:\n",
    "    Rectangulo(double _largo, double _alto){\n",
    "        largo = _largo;\n",
    "        alto  = _alto;\n",
    "    }\n",
    "\n",
    "    Rectangulo(std::string _id, double _largo, double _alto): Figura(_id){\n",
    "        largo = _largo;\n",
    "        alto  = _alto;\n",
    "    }\n",
    "\n",
    "    double area() override{\n",
    "        return(largo*alto);\n",
    "    }\n",
    "};\n",
    "\n",
    "class Elipse: public Figura {\n",
    "    private:\n",
    "    double rMayor;\n",
    "    double rMenor;\n",
    "\n",
    "    public:\n",
    "    Elipse(double _rMayor, double _rMenor){\n",
    "        rMayor = _rMayor;\n",
    "        rMenor = _rMenor;\n",
    "    }\n",
    "\n",
    "    Elipse(std::string _id, double _rMayor, double _rMenor): Figura(_id){\n",
    "        rMayor = _rMayor;\n",
    "        rMenor = _rMenor;\n",
    "    }\n",
    "\n",
    "    double area() override{\n",
    "        return(rMayor*rMenor*3.1415);\n",
    "    }\n",
    "};"
   ]
  },
  {
   "cell_type": "markdown",
   "metadata": {},
   "source": [
    "*Finalmente, las clases `Cuadrado` y `Circulo`, mantienen el constructor anterior y se les agrega un constructor nuevo, que permite instanciar una clase `Rectangulo` y `Elipse` con identificadores, respectivamente:*\n",
    "* *Caso constructor clase `Cuadrado`:*\n",
    "    ```\n",
    "    Cuadrado(std::string _id, double _lado): Rectangulo(_id, _lado, _lado){ ... }\n",
    "    ```\n",
    "* *Caso constructor clase `Circulo`:*\n",
    "    ```\n",
    "    Circulo(std::string _id, double _radio): Elipse(_id, _radio, _radio){ ... }\n",
    "    ```"
   ]
  },
  {
   "cell_type": "code",
   "execution_count": 4,
   "metadata": {},
   "outputs": [
    {
     "data": {
      "text/plain": []
     },
     "execution_count": 4,
     "metadata": {},
     "output_type": "execute_result"
    }
   ],
   "source": [
    "class Cuadrado: public Rectangulo {\n",
    "    private:\n",
    "    double lado;\n",
    "\n",
    "    public:\n",
    "    Cuadrado(double _lado): Rectangulo(_lado, _lado){\n",
    "        lado = _lado;\n",
    "    }\n",
    "\n",
    "    Cuadrado(std::string _id, double _lado): Rectangulo(_id, _lado, _lado){\n",
    "        lado = _lado;\n",
    "    }\n",
    "};\n",
    "\n",
    "class Circulo: public Elipse {\n",
    "    private:\n",
    "    double radio;\n",
    "\n",
    "    public:\n",
    "    Circulo(double _radio): Elipse(_radio, _radio){\n",
    "        radio = _radio;\n",
    "    }\n",
    "\n",
    "    Circulo(std::string _id, double _radio): Elipse(_id, _radio, _radio){\n",
    "        radio = _radio;\n",
    "    }\n",
    "};"
   ]
  },
  {
   "cell_type": "markdown",
   "metadata": {},
   "source": [
    "### **Paso 3 Casos de pruebas**"
   ]
  },
  {
   "cell_type": "markdown",
   "metadata": {},
   "source": [
    "**3.1 Caso objetos creados con punteros**\n",
    "\n",
    "*Para los casos de pruebas, se crearán dos objetos por cada clase. Un en forma simple y otro con identificador.*"
   ]
  },
  {
   "cell_type": "code",
   "execution_count": 5,
   "metadata": {},
   "outputs": [
    {
     "data": {
      "text/plain": []
     },
     "execution_count": 5,
     "metadata": {},
     "output_type": "execute_result"
    }
   ],
   "source": [
    "Rectangulo* r1  = new Rectangulo(56,89);\n",
    "Rectangulo* nr1 = new Rectangulo(\"prueba rectangulo 01\", 56,89);\n",
    "\n",
    "Elipse* e1 = new Elipse(45,456.6);\n",
    "Elipse* ne1 = new Elipse(\"elipse 01\", 45,456.6);\n",
    "\n",
    "Cuadrado* q1  = new Cuadrado(56);\n",
    "Cuadrado* nq1 = new Cuadrado(\"prueba cuadrado 01\", 90);\n",
    "\n",
    "Circulo* c1 = new Circulo(45);\n",
    "Circulo* nc1 = new Circulo(\"circulo 5\" ,666);"
   ]
  },
  {
   "cell_type": "markdown",
   "metadata": {},
   "source": [
    "*Luego, se crea una función `mostrarArea(Figura* f)` para mostrar el identificador y el área del objeto `f` pasado como a través de un puntero:*"
   ]
  },
  {
   "cell_type": "code",
   "execution_count": 6,
   "metadata": {},
   "outputs": [
    {
     "data": {
      "text/plain": []
     },
     "execution_count": 6,
     "metadata": {},
     "output_type": "execute_result"
    }
   ],
   "source": [
    "void mostrarArea(Figura* f){\n",
    "    std::cout << \"identificador: \" << f->retornarID() << \" \";\n",
    "    std::cout << \"área: \" << f->area() << \"\\n\";\n",
    "}"
   ]
  },
  {
   "cell_type": "markdown",
   "metadata": {},
   "source": [
    "*Finalmente, se llama a la función `mostrarArea(Figura* f)` para cada una de los objetos creados:*"
   ]
  },
  {
   "cell_type": "code",
   "execution_count": 7,
   "metadata": {},
   "outputs": [
    {
     "name": "stdout",
     "output_type": "stream",
     "text": [
      "identificador: Sin ID área: 4984\n",
      "identificador: prueba rectangulo 01 área: 4984\n",
      "identificador: Sin ID área: 64548.4\n",
      "identificador: elipse 01 área: 64548.4\n",
      "identificador: Sin ID área: 3136\n",
      "identificador: prueba cuadrado 01 área: 8100\n",
      "identificador: Sin ID área: 6361.54\n",
      "identificador: circulo 5 área: 1.39343e+06\n"
     ]
    },
    {
     "data": {
      "text/plain": [
       "(void) @0x7f3a057f8c30\n"
      ]
     },
     "execution_count": 7,
     "metadata": {},
     "output_type": "execute_result"
    }
   ],
   "source": [
    "mostrarArea(r1);\n",
    "mostrarArea(nr1);\n",
    "mostrarArea(e1);\n",
    "mostrarArea(ne1);\n",
    "mostrarArea(q1);\n",
    "mostrarArea(nq1);\n",
    "mostrarArea(c1);\n",
    "mostrarArea(nc1);"
   ]
  },
  {
   "cell_type": "markdown",
   "metadata": {},
   "source": [
    "**3.2 Caso objetos utilizados con referencias**\n",
    "\n",
    "*Similar al caso anterior, para los casos de pruebas, se crearán dos objetos por cada clase. Un en forma simple y otro con identificador.*"
   ]
  },
  {
   "cell_type": "code",
   "execution_count": 8,
   "metadata": {},
   "outputs": [
    {
     "data": {
      "text/plain": []
     },
     "execution_count": 8,
     "metadata": {},
     "output_type": "execute_result"
    }
   ],
   "source": [
    "Rectangulo rr1  = Rectangulo(56,89);\n",
    "Rectangulo nnr1 = Rectangulo(\"prueba rectangulo 01\", 56,89);\n",
    "\n",
    "Elipse ee1 = Elipse(45,456.6);\n",
    "Elipse nne1 = Elipse(\"elipse 01\", 45,456.6);\n",
    "\n",
    "Cuadrado qq1  = Cuadrado(56);\n",
    "Cuadrado nnq1 = Cuadrado(\"prueba cuadrado 01\", 90);\n",
    "\n",
    "Circulo cc1 =  Circulo(45);\n",
    "Circulo nnc1 = Circulo(\"circulo 5\" ,666);"
   ]
  },
  {
   "cell_type": "markdown",
   "metadata": {},
   "source": [
    "*Luego, se crea una función `mostrarArea(Figura& f)` para mostrar el identificador y el área del objeto `f`. Este objeto se pasa como referencia. Se debe recordar que se pueden tener varias funciones con el mismo nombre y con distinto parámetros porque el lenguaje acepta Polimorfismo en tiempo de compilación.*"
   ]
  },
  {
   "cell_type": "code",
   "execution_count": 9,
   "metadata": {},
   "outputs": [
    {
     "data": {
      "text/plain": []
     },
     "execution_count": 9,
     "metadata": {},
     "output_type": "execute_result"
    }
   ],
   "source": [
    "void mostrarArea(Figura& f){\n",
    "    std::cout << \"identificador: \" << f.retornarID() << \" \";\n",
    "    std::cout << \"área: \" << f.area() << \"\\n\";\n",
    "}"
   ]
  },
  {
   "cell_type": "markdown",
   "metadata": {},
   "source": [
    "*Finalmente, se llama a la función `mostrarArea(Figura& f)` para cada una de los objetos creados:*"
   ]
  },
  {
   "cell_type": "code",
   "execution_count": 10,
   "metadata": {},
   "outputs": [
    {
     "name": "stdout",
     "output_type": "stream",
     "text": [
      "identificador: Sin ID área: 4984\n",
      "identificador: prueba rectangulo 01 área: 4984\n",
      "identificador: Sin ID área: 64548.4\n",
      "identificador: elipse 01 área: 64548.4\n",
      "identificador: Sin ID área: 3136\n",
      "identificador: prueba cuadrado 01 área: 8100\n",
      "identificador: Sin ID área: 6361.54\n",
      "identificador: circulo 5 área: 1.39343e+06\n"
     ]
    },
    {
     "data": {
      "text/plain": [
       "(void) @0x7f3a057f8c30\n"
      ]
     },
     "execution_count": 10,
     "metadata": {},
     "output_type": "execute_result"
    }
   ],
   "source": [
    "mostrarArea(rr1);\n",
    "mostrarArea(nnr1);\n",
    "mostrarArea(ee1);\n",
    "mostrarArea(nne1);\n",
    "mostrarArea(qq1);\n",
    "mostrarArea(nnq1);\n",
    "mostrarArea(cc1);\n",
    "mostrarArea(nnc1);"
   ]
  }
 ],
 "metadata": {
  "kernelspec": {
   "display_name": "C++17",
   "language": "C++",
   "name": "cling-cpp17"
  },
  "language_info": {
   "codemirror_mode": "c++",
   "file_extension": ".c++",
   "mimetype": "text/x-c++src",
   "name": "c++"
  }
 },
 "nbformat": 4,
 "nbformat_minor": 2
}
