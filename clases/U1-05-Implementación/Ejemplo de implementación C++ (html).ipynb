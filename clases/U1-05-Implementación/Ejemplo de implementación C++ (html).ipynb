{
 "cells": [
  {
   "cell_type": "markdown",
   "metadata": {},
   "source": [
    "# **Ejemplo de implementación de jerarquía en C++**"
   ]
  },
  {
   "cell_type": "markdown",
   "metadata": {},
   "source": [
    "*La jerarquía que se quiere implementar es la siguiente:*\n",
    "\n",
    "*Antes de crear el código, se deben incluir las bibliotecas que permiten utilizar los ejemplos que se muestran en este documento.*"
   ]
  },
  {
   "cell_type": "code",
   "execution_count": 1,
   "metadata": {
    "vscode": {
     "languageId": "c++"
    }
   },
   "outputs": [
    {
     "data": {
      "text/plain": []
     },
     "execution_count": 1,
     "metadata": {},
     "output_type": "execute_result"
    }
   ],
   "source": [
    "#include <cstdio>\n",
    "#include <iostream>\n",
    "#include <string>"
   ]
  },
  {
   "cell_type": "markdown",
   "metadata": {},
   "source": [
    "## **Paso 1**"
   ]
  },
  {
   "cell_type": "markdown",
   "metadata": {},
   "source": [
    "*Se define y se implementa la clase Figura. Esta clase tiene un constructor vacío y un método que retorna el área de una figura, llamado `area()`. Por diseño, se requiere que este método sea sobreescrito por las clases hijas. Debido a esto, se utiliza la palabra reservada `virtual` antes de la definición del método.*"
   ]
  },
  {
   "cell_type": "code",
   "execution_count": 2,
   "metadata": {
    "vscode": {
     "languageId": "c++"
    }
   },
   "outputs": [
    {
     "data": {
      "text/plain": []
     },
     "execution_count": 2,
     "metadata": {},
     "output_type": "execute_result"
    }
   ],
   "source": [
    "class Figura{\n",
    "    public:\n",
    "    Figura(){}\n",
    "\n",
    "    virtual double area(){ return(0.0);}\n",
    "};"
   ]
  },
  {
   "cell_type": "markdown",
   "metadata": {},
   "source": [
    "***Observación**: Se debe recordar que en C++, la definición de una clase sigue el formato clásico de cualquier otra instrucción: `class Nombre { ... };`. El punto y coma (`;`) después del corchete de cierre es mandatario, ya que la regla que prevalece es que toda instrucción termine con punto y coma.*"
   ]
  },
  {
   "cell_type": "markdown",
   "metadata": {},
   "source": [
    "## **Paso 2 Crear clases hijas**"
   ]
  },
  {
   "cell_type": "markdown",
   "metadata": {},
   "source": [
    "*Una vez definida la clase base, se definen e implementan las clases derivadas `Rectangulo` y `Elipse`. Cada una implementa el método `area()` según el comportamiento de la clase respectiva. Se utiliza la palabra reservada `override` para indicar que el método esta sobreescrito. `override` es sólo un **adorno**. Si ben no colocarlo no afecta el funcionamiento del código, es recomendable utilizarlo ya que indica explícitamente que un método se está sobreescribiendo (mejora la legibilidad y mantención del código).*"
   ]
  },
  {
   "cell_type": "code",
   "execution_count": 3,
   "metadata": {
    "vscode": {
     "languageId": "c++"
    }
   },
   "outputs": [
    {
     "data": {
      "text/plain": []
     },
     "execution_count": 3,
     "metadata": {},
     "output_type": "execute_result"
    }
   ],
   "source": [
    "class Rectangulo: public Figura {\n",
    "    private:\n",
    "    double largo;\n",
    "    double alto;\n",
    "\n",
    "    public:\n",
    "    Rectangulo(double _largo, double _alto){\n",
    "        largo = _largo;\n",
    "        alto  = _alto;\n",
    "    }\n",
    "\n",
    "    double area() override{\n",
    "        return(largo*alto);\n",
    "    }\n",
    "};\n",
    "\n",
    "class Elipse: public Figura {\n",
    "    private:\n",
    "    double rMayor;\n",
    "    double rMenor;\n",
    "\n",
    "    public:\n",
    "    Elipse(double _rMayor, double _rMenor){\n",
    "        rMayor = _rMayor;\n",
    "        rMenor = _rMenor;\n",
    "    }\n",
    "\n",
    "    double area() override{\n",
    "        return(rMayor*rMenor*3.1415);\n",
    "    }\n",
    "};"
   ]
  },
  {
   "cell_type": "markdown",
   "metadata": {},
   "source": [
    "*Una vez que se implementan las clases `Rectangulo` y `Elipse`, se sigue con las clases derivadas `Cuadrado` y `Circulo`. Se debe visualizar que éstas últimas son clases especializadas de `Rectangulo` y `Elipse`, respectivamente.*"
   ]
  },
  {
   "cell_type": "code",
   "execution_count": 4,
   "metadata": {
    "vscode": {
     "languageId": "c++"
    }
   },
   "outputs": [
    {
     "data": {
      "text/plain": []
     },
     "execution_count": 4,
     "metadata": {},
     "output_type": "execute_result"
    }
   ],
   "source": [
    "class Cuadrado: public Rectangulo {\n",
    "    private:\n",
    "    double lado;\n",
    "\n",
    "    public:\n",
    "    Cuadrado(double _lado): Rectangulo(_lado, _lado){\n",
    "        lado = _lado;\n",
    "    }\n",
    "};\n",
    "\n",
    "class Circulo: public Elipse {\n",
    "    private:\n",
    "    double radio;\n",
    "\n",
    "    public:\n",
    "    Circulo(double _radio): Elipse(_radio, _radio){\n",
    "        radio = _radio;\n",
    "    }\n",
    "};"
   ]
  },
  {
   "cell_type": "markdown",
   "metadata": {},
   "source": [
    "***Observación** Cada una de estas clases puede tener métodos propios que no tienen las clases superiores. Por ejemplo, la clase `Cuadrado` puede tener el método de interfaz `retornarLado()`, para poder leer el atributo privado `lado` desde fuera de la clase. Algo similar se pude implementar en la clase `Circulo`.*"
   ]
  },
  {
   "cell_type": "markdown",
   "metadata": {},
   "source": [
    "## **Creación de objetos**"
   ]
  },
  {
   "cell_type": "markdown",
   "metadata": {},
   "source": [
    "*Los objetos deben ser creados en forma dinámica para implementar correctamente el polimorfismo en tiempo de ejecución. Este se debe a que el manejo de los objetos se resuelve a través de estructuras dinámicas en memoria, llamadas `tabla de símbolos`, cuyo estudio esta fuera del alcance de esta asignatura. La creación en forma dinámica se logra utilizando el comando `new` y declarando que lo que se crea en un puntero a un objeto.*"
   ]
  },
  {
   "cell_type": "code",
   "execution_count": 5,
   "metadata": {
    "vscode": {
     "languageId": "c++"
    }
   },
   "outputs": [
    {
     "data": {
      "text/plain": []
     },
     "execution_count": 5,
     "metadata": {},
     "output_type": "execute_result"
    }
   ],
   "source": [
    "Cuadrado* q1 = new Cuadrado(10);\n",
    "   Cuadrado* q2 = new Cuadrado(5.54675);\n",
    "   Rectangulo* r1 = new Rectangulo(56,89);\n",
    "   Circulo*  c1 = new Circulo(5);"
   ]
  },
  {
   "cell_type": "markdown",
   "metadata": {},
   "source": [
    "*Para probar el polimorfismo en tiempo de ejecución, se crea una función de prueba `mostrarArea(Figura* f)`:*"
   ]
  },
  {
   "cell_type": "code",
   "execution_count": 6,
   "metadata": {
    "vscode": {
     "languageId": "c++"
    }
   },
   "outputs": [
    {
     "data": {
      "text/plain": []
     },
     "execution_count": 6,
     "metadata": {},
     "output_type": "execute_result"
    }
   ],
   "source": [
    "void mostrarArea(Figura* f){\n",
    "    std::cout << \"El area es: \" << f->area() << \"\\n\";\n",
    "}"
   ]
  },
  {
   "cell_type": "markdown",
   "metadata": {},
   "source": [
    "*El código, si bien es simple, muestra la característica principal del polimorfismo en tiempo de ejecución. Como `f` está declarado como una referencia a la clase Figura, esto permite que cualquier clase hija pueda ser aceptada en la función.*"
   ]
  },
  {
   "cell_type": "code",
   "execution_count": 7,
   "metadata": {
    "vscode": {
     "languageId": "c++"
    }
   },
   "outputs": [
    {
     "name": "stdout",
     "output_type": "stream",
     "text": [
      "El area es: 100\n",
      "El area es: 30.7664\n",
      "El area es: 4984\n",
      "El area es: 78.5375\n"
     ]
    },
    {
     "data": {
      "text/plain": [
       "(void) @0x7f2a99ff9c30\n"
      ]
     },
     "execution_count": 7,
     "metadata": {},
     "output_type": "execute_result"
    }
   ],
   "source": [
    "mostrarArea(q1);\n",
    "mostrarArea(q2);\n",
    "mostrarArea(r1);\n",
    "mostrarArea(c1);"
   ]
  },
  {
   "cell_type": "markdown",
   "metadata": {},
   "source": [
    "## **Conclusión**"
   ]
  },
  {
   "cell_type": "markdown",
   "metadata": {},
   "source": [
    "*En C++, para aprovechar las características del polimorfismo en tiempo de ejecución, se prefiere crear objetos dinámicos, ya que en este caso el languaje trabaja con referencias a los objetos, lo que permite seleccionar adecuadamente los métodos a invocar dependiendo de la declaración del objeto. En lenguajes derivados, como Java y C#, se trabaja de igual forma con referencias, pero en forma transparente para la persona que programa.*"
   ]
  }
 ],
 "metadata": {
  "kernelspec": {
   "display_name": "C++17",
   "language": "C++",
   "name": "cling-cpp17"
  },
  "language_info": {
   "codemirror_mode": "c++",
   "file_extension": ".c++",
   "mimetype": "text/x-c++src",
   "name": "C++"
  }
 },
 "nbformat": 4,
 "nbformat_minor": 2
}
