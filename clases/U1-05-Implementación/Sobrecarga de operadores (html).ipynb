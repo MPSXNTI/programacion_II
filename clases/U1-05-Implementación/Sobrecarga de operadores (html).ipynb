{
 "cells": [
  {
   "cell_type": "markdown",
   "metadata": {},
   "source": [
    "# **Sobrecarga de operadores**"
   ]
  },
  {
   "cell_type": "markdown",
   "metadata": {},
   "source": [
    "*La sobrecarga de operadores es una característica en C++ que permite redefinir el comportamiento de los operadores (como +, -, *, etc.) para trabajar con objetos de clases definidas por el usuario. Esto permite que las instancias de una clase se comporten como tipos de datos nativos, haciendo que el código sea más intuitivo y fácil de leer. Se asume que se trabajará en base a una clase que implementa números complejos, cuya implementación básica es:*\n",
    "```\n",
    "class Complex{\n",
    "   private: \n",
    "   double real_;\n",
    "   double im_;\n",
    "\n",
    "   public:\n",
    "   Complex(){\n",
    "       real_ = 0;\n",
    "       im_   = 0;\n",
    "   }\n",
    "\n",
    "   Complex(double re, double im){\n",
    "       real_ = re;\n",
    "       im_   = im;\n",
    "   }\n",
    "\n",
    "   Complex( Complex& c){\n",
    "       real_ = c.real_;\n",
    "       im_   = c.im_;\n",
    "   }\n",
    "\n",
    "   void show(){ ... }\n",
    "};\n",
    "```"
   ]
  },
  {
   "cell_type": "markdown",
   "metadata": {},
   "source": [
    "## **Sobrecarga operador =**"
   ]
  },
  {
   "cell_type": "markdown",
   "metadata": {},
   "source": [
    "*El operador `=` transfiere lo que está en su lado derecho al receptor que está en el lado izquierdo. Normalmente, el receptor es un tipo de dato primitivo y la transferencia de datos es inmediata. Cuando se trata de objetos, es necesario copiar el estado del objeto del lado derecho al objeto receptor del lado izquierdo. Algunas veces, esta oparación es sencilla y es el mismo lenguaje que puede sobrecargar el operador. Acá se va a asumir que el lenguaje no tiene esta capacidad, para entender que es lo que se realiza para lograr el objetivo de una asignación.*\n",
    "\n",
    "*Normalmente, la sobrecarga del operador de asignación se define de la siguiente forma:*\n",
    "```\n",
    "ClassName& operator=( ClassName const& c ){ ... }\n",
    "```\n",
    "**Observaciones**\n",
    "1. *El uso de ClassName& como tipo de retorno permite encadenar asignaciones: `obj1 = obj2 = obj 3`.*\n",
    "2. *Usar `ClassName const& c` como parámetro evita la copia innecesaria del objeto. Además, pasar el objeto por referencia en lugar de por valor es más eficiente, especialmente si el objeto utiliza mucha memoria o tiene muchos atributos.*\n",
    "3. *La palabra clave `const` asegura que la función no modificará el objeto pasado como argumento. Esto es importante para mantener la inmutabilidad de los parámetros de entrada.*\n",
    "4. *La implementación típica del operador de asignación incluye comprobaciones para evitar la autoasignación. Por ejemplo:*\n",
    "    ```\n",
    "    if (this != &c) {\n",
    "       // Copia los datos de 'c' a 'this'\n",
    "    }\n",
    "    ```\n",
    "*Entonces, para implementar la sobrecarga de la asignación en la clase de ejemplo, es necesario agregar el método:*\n",
    "```\n",
    "Complex& operator=( Complex const& c){\n",
    "\n",
    "    if(this != &c){\n",
    "            real_ = c.real_;\n",
    "            im_   = c.im_;\n",
    "    }\n",
    "    \n",
    "    return( *this);\n",
    "}\n",
    "```"
   ]
  },
  {
   "cell_type": "markdown",
   "metadata": {},
   "source": [
    "## **Sobrecarga operador +**"
   ]
  },
  {
   "cell_type": "markdown",
   "metadata": {},
   "source": [
    "*La sobrecarga del operador `+` permite a las instancias de una clase puedan ser sumadas de manera intuitiva, mejorando la legibilidad y la mantenibilidad del código. Esta técnica puede aplicarse a otros operadores de manera similar.*\n",
    "\n",
    "*Normalmente, la sobrecarga del operador de asignación se define de la siguiente forma:*\n",
    "```\n",
    "ClassName operator+( const ClassName& c ){ ... }\n",
    "```\n",
    "**Observaciones**\n",
    "1. *El parámetro const ClaseName& c se pasa por referencia constante para evitar copias innecesarias y asegurar que no se modifique el objeto pasado.*\n",
    "2. *La función devuelve un nuevo objeto Vector, que representa la suma de los dos vectores originales.*\n",
    "3. *Debido a que el operador devuelve un objeto, se puede encadenar operaciones como obj1 + obj2 + obj3.*"
   ]
  },
  {
   "cell_type": "markdown",
   "metadata": {},
   "source": [
    "## **Sobrecarga operador ==**"
   ]
  },
  {
   "cell_type": "markdown",
   "metadata": {},
   "source": [
    "*La sobrecarga del operador `==` permite definir cómo se debe comportar la comparación de igualdad entre dos objetos de una clase específica. Implementar esta sobrecarga es útil para comparar instancias de esa clase de manera intuitiva.*\n",
    "\n",
    "*Normalmente, la sobrecarga del operador de asignación se define de la siguiente forma:*\n",
    "```\n",
    "bool operator==( const ClassName& c ) const { ... }\n",
    "```\n",
    "**Observaciones:**\n",
    "1. *La función se declara como `const` para indicar que no modificará el objeto actual.*\n",
    "2. *La función debe implementar la lógica de comparación.*"
   ]
  },
  {
   "cell_type": "markdown",
   "metadata": {},
   "source": [
    "## **Código final**"
   ]
  },
  {
   "cell_type": "markdown",
   "metadata": {},
   "source": [
    "### **Definición de la clase**"
   ]
  },
  {
   "cell_type": "code",
   "execution_count": 1,
   "metadata": {},
   "outputs": [
    {
     "data": {
      "text/plain": []
     },
     "execution_count": 1,
     "metadata": {},
     "output_type": "execute_result"
    }
   ],
   "source": [
    "#include <iostream>\n",
    "#include <string>\n",
    "#include <cstdlib>\n",
    "\n",
    "\n",
    "class Complex{\n",
    "    private: \n",
    "    double real_;\n",
    "    double im_;\n",
    "\n",
    "    public:\n",
    "    Complex(){\n",
    "        real_ = 0;\n",
    "        im_   = 0;\n",
    "    }\n",
    "\n",
    "    Complex(double re, double im){\n",
    "        real_ = re;\n",
    "        im_   = im;\n",
    "    }\n",
    "\n",
    "    Complex( Complex& c){\n",
    "        real_ = c.real_;\n",
    "        im_   = c.im_;\n",
    "    }\n",
    "\n",
    "    Complex& operator=( const Complex& c){\n",
    "\n",
    "        if(this != &c){\n",
    "            real_ = c.real_;\n",
    "            im_   = c.im_;\n",
    "        }\n",
    "        \n",
    "        return( *this);\n",
    "    }\n",
    "\n",
    "    Complex operator+( const Complex& b){\n",
    "        Complex aux = Complex();\n",
    "\n",
    "        aux.real_ = real_ + b.real_;\n",
    "        aux.im_   = im_   + b.im_;\n",
    "\n",
    "        return(aux);\n",
    "    }\n",
    "\n",
    "    bool operator==( const Complex& b){\n",
    "        bool esIgual = false;\n",
    "\n",
    "        if(real_ == b.real_ && im_ == b.im_){\n",
    "            esIgual = true;\n",
    "        }\n",
    "\n",
    "        return(esIgual);\n",
    "\n",
    "    }\n",
    "\n",
    "    void show(){\n",
    "        std::cout << real_<< \" + \" << im_ <<  \"i\\n\";\n",
    "    }\n",
    "\n",
    "    void show(std::string msg){\n",
    "        std::cout << msg << \": \" <<real_<< \" + \" << im_ <<  \"i\\n\";\n",
    "    }\n",
    "    // Aqui va el resto de métodos\n",
    "\n",
    "    void real(double r){\n",
    "        real_ = r;\n",
    "    }\n",
    "\n",
    "    double real(){\n",
    "        return(real_);\n",
    "    }\n",
    "};"
   ]
  },
  {
   "cell_type": "markdown",
   "metadata": {},
   "source": [
    "### **Función de prueba de concepto**"
   ]
  },
  {
   "cell_type": "code",
   "execution_count": 2,
   "metadata": {},
   "outputs": [
    {
     "data": {
      "text/plain": []
     },
     "execution_count": 2,
     "metadata": {},
     "output_type": "execute_result"
    }
   ],
   "source": [
    "void test01(){\n",
    "    Complex aa = Complex(10,20);\n",
    "    Complex bb = Complex(5,9);\n",
    "    Complex cc = aa;\n",
    "    Complex dd = Complex(aa);\n",
    "\n",
    "\n",
    "    aa.show(\"aa\");\n",
    "    aa.real(34.7);\n",
    "    aa.show(\"aa\");\n",
    "    cc.show(\"cc\");\n",
    "    dd.show(\"dd\");\n",
    "\n",
    "\n",
    "    Complex ee = Complex();\n",
    "\n",
    "    ee = aa + cc + dd;\n",
    "    ee = ee;\n",
    "    ee.show(\"ee\");\n",
    "\n",
    "    if(cc == dd){\n",
    "        std::cout << \"son iguales\\n\";\n",
    "    }\n",
    "    else{\n",
    "        std::cout << \"no son iguales\\n\";\n",
    "    }\n",
    "}"
   ]
  },
  {
   "cell_type": "markdown",
   "metadata": {},
   "source": [
    "### **Invocar el conjunto de pruebas**"
   ]
  },
  {
   "cell_type": "markdown",
   "metadata": {},
   "source": [
    "*Se debe tener en cuenta que en un proyecto práctica (tarea, control, etc), la llamada al conjunto de pruebas se debe hacer desde la función main()*\n",
    "```\n",
    "int main(int argc, char* argv[]){\n",
    "\n",
    "    test01();\n",
    "   \n",
    "    return(EXIT_SUCCESS);\n",
    "}\n",
    "```"
   ]
  },
  {
   "cell_type": "code",
   "execution_count": 3,
   "metadata": {},
   "outputs": [
    {
     "name": "stdout",
     "output_type": "stream",
     "text": [
      "aa: 10 + 20i\n",
      "aa: 34.7 + 20i\n",
      "cc: 10 + 20i\n",
      "dd: 10 + 20i\n",
      "ee: 54.7 + 60i\n",
      "son iguales\n"
     ]
    },
    {
     "data": {
      "text/plain": [
       "(void) nullptr\n"
      ]
     },
     "execution_count": 3,
     "metadata": {},
     "output_type": "execute_result"
    }
   ],
   "source": [
    "test01();"
   ]
  }
 ],
 "metadata": {
  "kernelspec": {
   "display_name": "C++17",
   "language": "C++",
   "name": "cling-cpp17"
  },
  "language_info": {
   "codemirror_mode": "c++",
   "file_extension": ".c++",
   "mimetype": "text/x-c++src",
   "name": "c++"
  }
 },
 "nbformat": 4,
 "nbformat_minor": 2
}
